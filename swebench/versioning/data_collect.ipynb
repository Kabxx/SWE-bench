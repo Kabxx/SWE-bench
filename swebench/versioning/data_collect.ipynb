{
 "cells": [
  {
   "cell_type": "code",
   "execution_count": null,
   "metadata": {},
   "outputs": [
    {
     "name": "stdout",
     "output_type": "stream",
     "text": [
      "python: can't open file '/home/riv3r/SWE-bench/swebench/versioning/environment_setup_commit.py': [Errno 2] No such file or directory\n"
     ]
    }
   ],
   "source": [
    "!python environment_setup_commit.py --dataset_name /home/riv3r/SWE-bench/swebench/collect/results/processed_instances.json"
   ]
  },
  {
   "cell_type": "code",
   "execution_count": 3,
   "metadata": {},
   "outputs": [
    {
     "name": "stdout",
     "output_type": "stream",
     "text": [
      "2024-11-29 20:14:22,855 - numexpr.utils - INFO - Note: NumExpr detected 32 cores but \"NUMEXPR_MAX_THREADS\" not set, so enforcing safe limit of 16.\n",
      "2024-11-29 20:14:22,855 - numexpr.utils - INFO - NumExpr defaulting to 16 threads.\n",
      "2024-11-29 20:14:23,137 - __main__ - INFO - Getting versions for 31 instances for bitflags/bitflags\n",
      "2024-11-29 20:14:23,137 - __main__ - INFO - Split instances into 1 groups with lengths [31]\n",
      "multiprocessing.pool.RemoteTraceback: \n",
      "\"\"\"\n",
      "Traceback (most recent call last):\n",
      "  File \"/root/anaconda3/lib/python3.12/site-packages/urllib3/connection.py\", line 199, in _new_conn\n",
      "    sock = connection.create_connection(\n",
      "           ^^^^^^^^^^^^^^^^^^^^^^^^^^^^^\n",
      "  File \"/root/anaconda3/lib/python3.12/site-packages/urllib3/util/connection.py\", line 60, in create_connection\n",
      "    for res in socket.getaddrinfo(host, port, family, socket.SOCK_STREAM):\n",
      "               ^^^^^^^^^^^^^^^^^^^^^^^^^^^^^^^^^^^^^^^^^^^^^^^^^^^^^^^^^^\n",
      "  File \"/root/anaconda3/lib/python3.12/socket.py\", line 963, in getaddrinfo\n",
      "    for res in _socket.getaddrinfo(host, port, family, type, proto, flags):\n",
      "               ^^^^^^^^^^^^^^^^^^^^^^^^^^^^^^^^^^^^^^^^^^^^^^^^^^^^^^^^^^^\n",
      "socket.gaierror: [Errno -3] Temporary failure in name resolution\n",
      "\n",
      "The above exception was the direct cause of the following exception:\n",
      "\n",
      "Traceback (most recent call last):\n",
      "  File \"/root/anaconda3/lib/python3.12/site-packages/urllib3/connectionpool.py\", line 789, in urlopen\n",
      "    response = self._make_request(\n",
      "               ^^^^^^^^^^^^^^^^^^^\n",
      "  File \"/root/anaconda3/lib/python3.12/site-packages/urllib3/connectionpool.py\", line 490, in _make_request\n",
      "    raise new_e\n",
      "  File \"/root/anaconda3/lib/python3.12/site-packages/urllib3/connectionpool.py\", line 466, in _make_request\n",
      "    self._validate_conn(conn)\n",
      "  File \"/root/anaconda3/lib/python3.12/site-packages/urllib3/connectionpool.py\", line 1095, in _validate_conn\n",
      "    conn.connect()\n",
      "  File \"/root/anaconda3/lib/python3.12/site-packages/urllib3/connection.py\", line 693, in connect\n",
      "    self.sock = sock = self._new_conn()\n",
      "                       ^^^^^^^^^^^^^^^^\n",
      "  File \"/root/anaconda3/lib/python3.12/site-packages/urllib3/connection.py\", line 206, in _new_conn\n",
      "    raise NameResolutionError(self.host, self, e) from e\n",
      "urllib3.exceptions.NameResolutionError: <urllib3.connection.HTTPSConnection object at 0x7f0948be0b00>: Failed to resolve 'raw.githubusercontent.com' ([Errno -3] Temporary failure in name resolution)\n",
      "\n",
      "The above exception was the direct cause of the following exception:\n",
      "\n",
      "Traceback (most recent call last):\n",
      "  File \"/root/anaconda3/lib/python3.12/site-packages/requests/adapters.py\", line 667, in send\n",
      "    resp = conn.urlopen(\n",
      "           ^^^^^^^^^^^^^\n",
      "  File \"/root/anaconda3/lib/python3.12/site-packages/urllib3/connectionpool.py\", line 843, in urlopen\n",
      "    retries = retries.increment(\n",
      "              ^^^^^^^^^^^^^^^^^^\n",
      "  File \"/root/anaconda3/lib/python3.12/site-packages/urllib3/util/retry.py\", line 519, in increment\n",
      "    raise MaxRetryError(_pool, url, reason) from reason  # type: ignore[arg-type]\n",
      "    ^^^^^^^^^^^^^^^^^^^^^^^^^^^^^^^^^^^^^^^^^^^^^^^^^^^\n",
      "urllib3.exceptions.MaxRetryError: HTTPSConnectionPool(host='raw.githubusercontent.com', port=443): Max retries exceeded with url: /bitflags/bitflags/472e392c0d082c0894b18fb31f4e68e0b145e29c/Cargo.toml (Caused by NameResolutionError(\"<urllib3.connection.HTTPSConnection object at 0x7f0948be0b00>: Failed to resolve 'raw.githubusercontent.com' ([Errno -3] Temporary failure in name resolution)\"))\n",
      "\n",
      "During handling of the above exception, another exception occurred:\n",
      "\n",
      "Traceback (most recent call last):\n",
      "  File \"/root/anaconda3/lib/python3.12/multiprocessing/pool.py\", line 125, in worker\n",
      "    result = (True, func(*args, **kwds))\n",
      "                    ^^^^^^^^^^^^^^^^^^^\n",
      "  File \"/root/anaconda3/lib/python3.12/multiprocessing/pool.py\", line 48, in mapstar\n",
      "    return list(map(*args))\n",
      "           ^^^^^^^^^^^^^^^^\n",
      "  File \"/home/riv3r/SWE-bench/swebench/versioning/get_versions.py\", line 207, in get_versions_from_web\n",
      "    version = get_version(instance)\n",
      "              ^^^^^^^^^^^^^^^^^^^^^\n",
      "  File \"/home/riv3r/SWE-bench/swebench/versioning/get_versions.py\", line 92, in get_version\n",
      "    init_text = requests.get(url).text\n",
      "                ^^^^^^^^^^^^^^^^^\n",
      "  File \"/root/anaconda3/lib/python3.12/site-packages/requests/api.py\", line 73, in get\n",
      "    return request(\"get\", url, params=params, **kwargs)\n",
      "           ^^^^^^^^^^^^^^^^^^^^^^^^^^^^^^^^^^^^^^^^^^^^\n",
      "  File \"/root/anaconda3/lib/python3.12/site-packages/requests/api.py\", line 59, in request\n",
      "    return session.request(method=method, url=url, **kwargs)\n",
      "           ^^^^^^^^^^^^^^^^^^^^^^^^^^^^^^^^^^^^^^^^^^^^^^^^^\n",
      "  File \"/root/anaconda3/lib/python3.12/site-packages/requests/sessions.py\", line 589, in request\n",
      "    resp = self.send(prep, **send_kwargs)\n",
      "           ^^^^^^^^^^^^^^^^^^^^^^^^^^^^^^\n",
      "  File \"/root/anaconda3/lib/python3.12/site-packages/requests/sessions.py\", line 703, in send\n",
      "    r = adapter.send(request, **kwargs)\n",
      "        ^^^^^^^^^^^^^^^^^^^^^^^^^^^^^^^\n",
      "  File \"/root/anaconda3/lib/python3.12/site-packages/requests/adapters.py\", line 700, in send\n",
      "    raise ConnectionError(e, request=request)\n",
      "requests.exceptions.ConnectionError: HTTPSConnectionPool(host='raw.githubusercontent.com', port=443): Max retries exceeded with url: /bitflags/bitflags/472e392c0d082c0894b18fb31f4e68e0b145e29c/Cargo.toml (Caused by NameResolutionError(\"<urllib3.connection.HTTPSConnection object at 0x7f0948be0b00>: Failed to resolve 'raw.githubusercontent.com' ([Errno -3] Temporary failure in name resolution)\"))\n",
      "\"\"\"\n",
      "\n",
      "The above exception was the direct cause of the following exception:\n",
      "\n",
      "Traceback (most recent call last):\n",
      "  File \"/home/riv3r/SWE-bench/swebench/versioning/get_versions.py\", line 398, in <module>\n",
      "    main(args)\n",
      "  File \"/home/riv3r/SWE-bench/swebench/versioning/get_versions.py\", line 269, in main\n",
      "    pool.map(\n",
      "  File \"/root/anaconda3/lib/python3.12/multiprocessing/pool.py\", line 367, in map\n",
      "    return self._map_async(func, iterable, mapstar, chunksize).get()\n",
      "           ^^^^^^^^^^^^^^^^^^^^^^^^^^^^^^^^^^^^^^^^^^^^^^^^^^^^^^^^^\n",
      "  File \"/root/anaconda3/lib/python3.12/multiprocessing/pool.py\", line 774, in get\n",
      "    raise self._value\n",
      "requests.exceptions.ConnectionError: None: Max retries exceeded with url: /bitflags/bitflags/472e392c0d082c0894b18fb31f4e68e0b145e29c/Cargo.toml (Caused by None)\n"
     ]
    }
   ],
   "source": [
    "!python get_versions.py \\\n",
    "    --instances_path /home/riv3r/SWE-bench/swebench/collect/results/processed_instances.json \\\n",
    "    --retrieval_method github \\\n",
    "    --num_workers 1 \\\n",
    "    --output_dir \"/home/riv3r/SWE-bench/swebench/versioning/results\"\\\n",
    "    --cleanup"
   ]
  }
 ],
 "metadata": {
  "kernelspec": {
   "display_name": "base",
   "language": "python",
   "name": "python3"
  },
  "language_info": {
   "codemirror_mode": {
    "name": "ipython",
    "version": 3
   },
   "file_extension": ".py",
   "mimetype": "text/x-python",
   "name": "python",
   "nbconvert_exporter": "python",
   "pygments_lexer": "ipython3",
   "version": "3.12.2"
  }
 },
 "nbformat": 4,
 "nbformat_minor": 2
}
